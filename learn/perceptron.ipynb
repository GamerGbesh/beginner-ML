{
 "cells": [
  {
   "cell_type": "code",
   "execution_count": 34,
   "metadata": {},
   "outputs": [],
   "source": [
    "import numpy as np\n",
    "import pandas as pd\n",
    "import tqdm\n",
    "import warnings\n",
    "warnings.filterwarnings(\"ignore\")"
   ]
  },
  {
   "cell_type": "code",
   "execution_count": 35,
   "metadata": {},
   "outputs": [],
   "source": [
    "class NotFittedError(BaseException):\n",
    "    def __init__(self, message):\n",
    "        self.message = message\n",
    "        super().__init__(self.message)\n",
    "\n",
    "    def __str__(self):\n",
    "        return self.message\n",
    "\n",
    "class Perceptron:\n",
    "    def __init__(self, regularization_strength=0.01):\n",
    "        self.bias = 0\n",
    "        self.weights = None\n",
    "        self.learning_rate = 0.1\n",
    "        self.regularization_strength = regularization_strength\n",
    "\n",
    "    def fit(self, x:pd.DataFrame, y:pd.Series, epochs=10, verbose=False):\n",
    "        self.weights = np.zeros(x.shape[1])\n",
    "        disable = True if not verbose else False\n",
    "\n",
    "        for _ in tqdm.tqdm(range(epochs), disable=disable):\n",
    "            for j in range(x.shape[0]):\n",
    "                y_predicted = self.predict(x.iloc[j])\n",
    "                weight_gradient = (y[j] - y_predicted) * x.iloc[j]\n",
    "                self.weights = self.weights - self.learning_rate * weight_gradient - self.learning_rate * self.regularization_strength * self.weights\n",
    "                self.bias = self.bias + self.learning_rate * (y[j] - y_predicted)\n",
    "                \n",
    "    \n",
    "    def predict(self, x:pd.Series):\n",
    "        if self.weights is None:\n",
    "            raise NotFittedError(\"Perceptron has not been trained\")\n",
    "        if x.shape != self.weights.shape:\n",
    "            raise ValueError(f\"Expected input of shape {self.weights.shape}, got {x.shape}\")\n",
    "        return self.step_activation(np.sum(x * self.weights) + self.bias)\n",
    "    \n",
    "\n",
    "    def step_activation(self, value):\n",
    "        return 1 if value > 0 else 0\n"
   ]
  },
  {
   "cell_type": "code",
   "execution_count": 36,
   "metadata": {},
   "outputs": [],
   "source": [
    "def truth_table(n:int, gate: str=\"or\", num: int | None = None) -> pd.DataFrame:\n",
    "    if gate not in [\"or\", \"and\"]:\n",
    "        raise ValueError(\"Gate must be one of 'or', or 'and'\")\n",
    "    if n <= 1:\n",
    "        raise ValueError(\"n must be greater than 1\")\n",
    "    table = {}\n",
    "    for i in range(n):\n",
    "        number = round((2 ** n // (2**i))/ 2)\n",
    "        table[f\"x{i}\"] = ([0] * number + [1] * number) * (2**i)\n",
    "    x = pd.DataFrame(table)\n",
    "    if not num:\n",
    "        y = x.any(axis=1,) if gate == \"or\" else x.all(axis=1)\n",
    "    else:\n",
    "        y = pd.Series([1 if i.count(1) >= num else 0 for i in x.itertuples()])        \n",
    "    y.name = \"y\"\n",
    "    y = y.astype(np.int16)\n",
    "    return pd.concat([x, y], axis=1)"
   ]
  },
  {
   "cell_type": "code",
   "execution_count": 37,
   "metadata": {},
   "outputs": [],
   "source": [
    "table = truth_table(5, num=4)"
   ]
  },
  {
   "cell_type": "code",
   "execution_count": 38,
   "metadata": {},
   "outputs": [],
   "source": [
    "x = table.drop(columns=\"y\")\n",
    "y = table.y"
   ]
  },
  {
   "cell_type": "code",
   "execution_count": 39,
   "metadata": {},
   "outputs": [],
   "source": [
    "def train_test_split(x:pd.DataFrame, y:pd.Series, test_split:float=0.2):\n",
    "    train_size = 1 - test_split\n",
    "    n = x.shape[0]\n",
    "    train_size = int(n * train_size)\n",
    "    x_train = x.iloc[:train_size]\n",
    "    x_test = x.iloc[train_size:]\n",
    "    y_train = x.iloc[:train_size]\n",
    "    y_test = x.iloc[train_size:]\n",
    "    return x_train, x_test, y_train, y_test\n",
    "    "
   ]
  },
  {
   "cell_type": "code",
   "execution_count": 40,
   "metadata": {},
   "outputs": [],
   "source": [
    "x_train, x_test, y_train, y_test = train_test_split(x, y)"
   ]
  },
  {
   "cell_type": "code",
   "execution_count": null,
   "metadata": {},
   "outputs": [
    {
     "name": "stderr",
     "output_type": "stream",
     "text": [
      "  0%|          | 0/10 [00:00<?, ?it/s]"
     ]
    },
    {
     "name": "stderr",
     "output_type": "stream",
     "text": [
      "100%|██████████| 10/10 [00:00<00:00, 57.57it/s]\n"
     ]
    }
   ],
   "source": [
    "model = Perceptron(0.001)\n",
    "model.fit(x, y, verbose=True)"
   ]
  }
 ],
 "metadata": {
  "kernelspec": {
   "display_name": "ml",
   "language": "python",
   "name": "python3"
  },
  "language_info": {
   "codemirror_mode": {
    "name": "ipython",
    "version": 3
   },
   "file_extension": ".py",
   "mimetype": "text/x-python",
   "name": "python",
   "nbconvert_exporter": "python",
   "pygments_lexer": "ipython3",
   "version": "3.10.15"
  }
 },
 "nbformat": 4,
 "nbformat_minor": 2
}
